{
 "cells": [
  {
   "cell_type": "markdown",
   "metadata": {},
   "source": [
    "# Prerequisites\n",
    "\n",
    "> By Jonas Busk ([jbusk@dtu.dk](mailto:jbusk@dtu.dk))\n",
    "\n",
    "**2019 update:** Changes have been made to the display of environments due to the previous `viewer` being incompatible with newer versions of Gym.\n",
    "\n",
    "**2022 update:** Rendering was disabled, and the notebook now uses the `colabgymrender` package to render a video.\n",
    "\n",
    "**2023 update:** Changed to packages `gymnasium` and `renderlab`, and to `CartPole-v1`.\n",
    "\n",
    "In this lab we will create neural network reinforcement learning agents with [PyTorch](https://pytorch.org/) to navigate various environments from [Gymnasium](https://github.com/Farama-Foundation/Gymnasium) originally developed by [OpenAI](https://openai.com/).\n",
    "\n",
    "Please refer to the [docs](https://gymnasium.farama.org) on how to get started with Gymnasium."
   ]
  },
  {
   "cell_type": "markdown",
   "metadata": {},
   "source": [
    "## Installation\n",
    "\n",
    "Below is a brief guide on how to install Gymnasium. For more details, please refer to the repository on [GitHub](https://gymnasium.farama.org) and the [docs](https://gym.openai.com/docs).\n",
    "\n",
    "You can do a minimal install of the packaged version of Gym directly from PyPI:\n",
    "\n",
    "```\n",
    "pip install gymnasium\n",
    "```\n",
    "\n",
    "If you run in Colab, you can do a quick pip install of Gym in the cell below:"
   ]
  },
  {
   "cell_type": "code",
   "execution_count": null,
   "metadata": {},
   "outputs": [],
   "source": [
    "!pip install gymnasium\n",
    "!pip install renderlab"
   ]
  },
  {
   "cell_type": "markdown",
   "metadata": {},
   "source": [
    " **If run on your local machine**, you may need to install `gymnasium[classic-control]` by running the following line:"
   ]
  },
  {
   "cell_type": "code",
   "execution_count": null,
   "metadata": {},
   "outputs": [],
   "source": [
    "!pip install \"gymnasium[classic-control]\""
   ]
  },
  {
   "cell_type": "markdown",
   "metadata": {},
   "source": [
    "## Running an environment\n",
    "\n",
    "Here is a bare minimum example of running a Gym environment. This creates an instance of the [CartPole-v0](https://gym.openai.com/envs/CartPole-v0) environment and runs until the rollout is done, taking random actions and rendering the environment at each step. With Gym installed, you should be able to see a small animation of the environment below."
   ]
  },
  {
   "cell_type": "code",
   "execution_count": 2,
   "metadata": {},
   "outputs": [
    {
     "name": "stderr",
     "output_type": "stream",
     "text": [
      "OpenCV: FFMPEG: tag 0x5634504d/'MP4V' is not supported with codec id 12 and format 'mp4 / MP4 (MPEG-4 Part 14)'\n",
      "OpenCV: FFMPEG: fallback to use tag 0x7634706d/'mp4v'\n"
     ]
    },
    {
     "name": "stdout",
     "output_type": "stream",
     "text": [
      "Moviepy - Building video temp-{start}.mp4.\n",
      "Moviepy - Writing video temp-{start}.mp4\n",
      "\n"
     ]
    },
    {
     "name": "stderr",
     "output_type": "stream",
     "text": [
      "                                                   "
     ]
    },
    {
     "name": "stdout",
     "output_type": "stream",
     "text": [
      "Moviepy - Done !\n",
      "Moviepy - video ready temp-{start}.mp4\n"
     ]
    },
    {
     "name": "stderr",
     "output_type": "stream",
     "text": [
      "\r"
     ]
    },
    {
     "data": {
      "text/html": [
       "<video controls  >\n",
       " <source src=\"data:video/mp4;base64,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\" type=\"video/mp4\">\n",
       " Your browser does not support the video tag.\n",
       " </video>"
      ],
      "text/plain": [
       "<IPython.core.display.Video object>"
      ]
     },
     "metadata": {},
     "output_type": "display_data"
    }
   ],
   "source": [
    "import gymnasium as gym\n",
    "import renderlab as rl\n",
    "\n",
    "env = gym.make(\"CartPole-v1\", render_mode = \"rgb_array\") # Create the environment\n",
    "env = rl.RenderFrame(env, \"./output\") # Directory for the recorded video\n",
    "env.reset()\n",
    "\n",
    "# Run environment\n",
    "while True:\n",
    "    action = env.action_space.sample() # Get a random action\n",
    "    _, _, done, _, _ = env.step(action) # Take a step\n",
    "    if done: break # Break if environment is done\n",
    "\n",
    "env.close() # Close environment\n",
    "env.play() # Show the video"
   ]
  },
  {
   "cell_type": "markdown",
   "metadata": {},
   "source": [
    "Hooray! You now have a working `Gym` environment that we can take actions in and render."
   ]
  }
 ],
 "metadata": {
  "kernelspec": {
   "display_name": "dl",
   "language": "python",
   "name": "python3"
  },
  "language_info": {
   "codemirror_mode": {
    "name": "ipython",
    "version": 3
   },
   "file_extension": ".py",
   "mimetype": "text/x-python",
   "name": "python",
   "nbconvert_exporter": "python",
   "pygments_lexer": "ipython3",
   "version": "3.12.2"
  }
 },
 "nbformat": 4,
 "nbformat_minor": 2
}
